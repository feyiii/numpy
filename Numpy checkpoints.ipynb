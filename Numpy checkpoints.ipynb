{
 "cells": [
  {
   "cell_type": "code",
   "execution_count": 40,
   "id": "472275f1",
   "metadata": {},
   "outputs": [
    {
     "name": "stdout",
     "output_type": "stream",
     "text": [
      "Original array: <module 'numpy' from 'C:\\\\Users\\\\HP\\\\anaconda3\\\\lib\\\\site-packages\\\\numpy\\\\__init__.py'>\n",
      "Convert an array to an ordinary list with the same items: \n",
      "[1, 2, 3, 4, 5, 6, 7, 10]\n"
     ]
    }
   ],
   "source": [
    "# Write a Python program to convert an array to an ordinary ilist with the same items.\n",
    "# we can use the np.tolist() function\n",
    "from array import *\n",
    "\n",
    "feyi = array('i', [1,2,3,4,5,6,7,10])\n",
    "print(\"Original array: \"+str(np))\n",
    "feyi = feyi.tolist()\n",
    "print(\"Convert an array to an ordinary list with the same items: \")\n",
    "print(feyi)"
   ]
  },
  {
   "cell_type": "code",
   "execution_count": 41,
   "id": "35176567",
   "metadata": {},
   "outputs": [
    {
     "name": "stdout",
     "output_type": "stream",
     "text": [
      "Original matrix:\n",
      "[[0 1 2]\n",
      " [3 4 5]]\n",
      "Condition number of the said matrix:\n",
      "4\n"
     ]
    }
   ],
   "source": [
    "# Write a NumPy program to compute the sum of the diagonal elements of a given array.\n",
    "# Hint: Two methods to solve this problem: 1. manually(without direct function). 2. using the trace function\n",
    "\n",
    "import numpy as np\n",
    "feyi = np.arange(6).reshape(2,3)\n",
    "print(\"Original matrix:\")\n",
    "print(feyi)\n",
    "result = np.trace(feyi)\n",
    "print(\"Condition number of the said matrix:\")\n",
    "print(result)"
   ]
  },
  {
   "cell_type": "code",
   "execution_count": 78,
   "id": "5613ac2f",
   "metadata": {},
   "outputs": [
    {
     "name": "stdout",
     "output_type": "stream",
     "text": [
      "Original array: \n",
      "2\n",
      "Value bigger than x = [False] [3, True]\n"
     ]
    }
   ],
   "source": [
    "# Given an array of your choice, get all the values higher than X :\n",
    "# if a = [[1,2],[3,5]] and x = 2 :  then 3 and 5 are higher than 2. \n",
    "import numpy as np \n",
    "\n",
    "a = np.array([[1,2],[3,5]])\n",
    "x = 2\n",
    "print(\"Original array: \")\n",
    "print(x)\n",
    "print(\"Value bigger than x =\", [x>2] ,[3,5>2])"
   ]
  },
  {
   "cell_type": "code",
   "execution_count": 97,
   "id": "76c6e582",
   "metadata": {},
   "outputs": [
    {
     "name": "stdout",
     "output_type": "stream",
     "text": [
      "\\cNew Array:\\c\n",
      "[2 4 6 8]\n"
     ]
    }
   ],
   "source": [
    "# Given two arrays, A & B have the same shape. \n",
    "# The task is to apply addition by hand: C is the new array. \n",
    "\n",
    "a = np.array([1,2,3,4])\n",
    "b = np.array([1,2,3,4])\n",
    "sum = a + b\n",
    "c = sum\n",
    "print(\"\\cNew Array:\\c\")\n",
    "print(c)"
   ]
  },
  {
   "cell_type": "code",
   "execution_count": 82,
   "id": "e61ed566",
   "metadata": {},
   "outputs": [
    {
     "name": "stdout",
     "output_type": "stream",
     "text": [
      "Original matrix:\n",
      "\n",
      "[[0.61825589 0.94388861 0.48728697 0.84542796]\n",
      " [0.04575845 0.05402025 0.74989203 0.61140631]]\n",
      "\n",
      "Subtract the mean of each row of the said matrix:\n",
      "\n",
      "[[-0.10545897  0.22017375 -0.23642788  0.1217131 ]\n",
      " [-0.3195108  -0.31124901  0.38462277  0.24613705]]\n"
     ]
    }
   ],
   "source": [
    "# Write a NumPy program to subtract the mean of each row of a given matrix.\n",
    "\n",
    "print(\"Original matrix:\\n\")\n",
    "a = np.random.rand(2,4)\n",
    "print(a)\n",
    "print(\"\\nSubtract the mean of each row of the said matrix:\\n\")\n",
    "b = a - a.mean(axis=1, keepdims=True)\n",
    "print(b)"
   ]
  }
 ],
 "metadata": {
  "kernelspec": {
   "display_name": "Python 3 (ipykernel)",
   "language": "python",
   "name": "python3"
  },
  "language_info": {
   "codemirror_mode": {
    "name": "ipython",
    "version": 3
   },
   "file_extension": ".py",
   "mimetype": "text/x-python",
   "name": "python",
   "nbconvert_exporter": "python",
   "pygments_lexer": "ipython3",
   "version": "3.9.7"
  }
 },
 "nbformat": 4,
 "nbformat_minor": 5
}
